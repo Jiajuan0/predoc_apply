{
  "nbformat": 4,
  "nbformat_minor": 0,
  "metadata": {
    "colab": {
      "provenance": [],
      "authorship_tag": "ABX9TyMyfg7IxMaJ6X7vksg9+stw",
      "include_colab_link": true
    },
    "kernelspec": {
      "name": "python3",
      "display_name": "Python 3"
    },
    "language_info": {
      "name": "python"
    }
  },
  "cells": [
    {
      "cell_type": "markdown",
      "metadata": {
        "id": "view-in-github",
        "colab_type": "text"
      },
      "source": [
        "<a href=\"https://colab.research.google.com/github/Jiajuan0/predoc_apply/blob/main/logwithsklearn.ipynb\" target=\"_parent\"><img src=\"https://colab.research.google.com/assets/colab-badge.svg\" alt=\"Open In Colab\"/></a>"
      ]
    },
    {
      "cell_type": "markdown",
      "source": [
        "**Implementation with sklearn**\n",
        "In the report we write the model from scratch. Here we provide another way when sklearn is applied.\n",
        "\n",
        "# Clean and process the data\n",
        "\n",
        "> 添加区块引用符号\n",
        "\n",
        "\n"
      ],
      "metadata": {
        "id": "RLRlFx565lAG"
      }
    },
    {
      "cell_type": "code",
      "execution_count": 12,
      "metadata": {
        "id": "TbFn2rZG8juo"
      },
      "outputs": [],
      "source": [
        "import pandas as pd\n",
        "from sklearn.model_selection import train_test_split, cross_val_score\n",
        "from sklearn.preprocessing import StandardScaler\n",
        "from sklearn.linear_model import LogisticRegression, LogisticRegressionCV\n",
        "from sklearn.metrics import accuracy_score\n",
        "\n",
        "# Load the dataset\n",
        "file_path = 'spam.data'  # Update this path as needed\n",
        "data = pd.read_csv(file_path, sep=' ', header=None)\n",
        "\n",
        "# Separate features and target variable\n",
        "X = data.iloc[:, :-1]\n",
        "y = data.iloc[:, -1]\n",
        "\n",
        "# Split the dataset into training and test sets\n",
        "X_train, X_test, y_train, y_test = train_test_split(X, y, train_size=3065, test_size=1536, random_state=42)\n",
        "\n",
        "# Standardize the features\n",
        "scaler = StandardScaler()\n",
        "X_train_scaled = scaler.fit_transform(X_train)\n",
        "X_test_scaled = scaler.transform(X_test)\n",
        "\n",
        "\n"
      ]
    },
    {
      "cell_type": "markdown",
      "source": [
        "# Fit different Model"
      ],
      "metadata": {
        "id": "xlzG02Pb6ifn"
      }
    },
    {
      "cell_type": "code",
      "source": [
        "# Fit a standard logistic regression model without regularization\n",
        "log_reg = LogisticRegression(penalty='none', max_iter=10000, random_state=42)\n",
        "log_reg.fit(X_train_scaled, y_train)\n",
        "y_train_pred = log_reg.predict(X_train_scaled)\n",
        "y_test_pred = log_reg.predict(X_test_scaled)\n",
        "accuracy_train = accuracy_score(y_train, y_train_pred)\n",
        "accuracy_test = accuracy_score(y_test, y_test_pred)\n",
        "print(f\"Standard Logistic Regression without regularization - Training accuracy: {accuracy_train}, Test accuracy: {accuracy_test}\")"
      ],
      "metadata": {
        "id": "7f1yLqzU6MbC"
      },
      "execution_count": null,
      "outputs": []
    },
    {
      "cell_type": "code",
      "source": [
        "# Fit a logistic regression model with L2 regularization using cross-validation\n",
        "log_reg_cv = LogisticRegressionCV(cv=5, penalty='l2', max_iter=10000, random_state=42, solver='liblinear')\n",
        "log_reg_cv.fit(X_train_scaled, y_train)\n",
        "y_train_pred_cv = log_reg_cv.predict(X_train_scaled)\n",
        "y_test_pred_cv = log_reg_cv.predict(X_test_scaled)\n",
        "accuracy_train_cv = accuracy_score(y_train, y_train_pred_cv)\n",
        "accuracy_test_cv = accuracy_score(y_test, y_test_pred_cv)\n",
        "optimal_c = log_reg_cv.C_[0]\n",
        "print(f\"Logistic Regression with L2 regularization - Training accuracy: {accuracy_train_cv}, Test accuracy: {accuracy_test_cv}, Optimal C: {optimal_c}\")"
      ],
      "metadata": {
        "id": "E7l3ccsq6Xw0"
      },
      "execution_count": null,
      "outputs": []
    },
    {
      "cell_type": "markdown",
      "source": [
        "# Feature Importance"
      ],
      "metadata": {
        "id": "UGx3iV-26f2y"
      }
    },
    {
      "cell_type": "code",
      "source": [
        "# Get coefficients from the model\n",
        "coefficients = log_reg.coef_.flatten()  # For the non-regularized model\n",
        "importance_df = pd.DataFrame(data={'Feature': X.columns, 'Coefficient': coefficients})\n",
        "\n",
        "# Sort by absolute value to see the most important features\n",
        "importance_df['Absolute Coefficient'] = importance_df['Coefficient'].abs()\n",
        "importance_df_sorted = importance_df.sort_values(by='Absolute Coefficient', ascending=False)\n",
        "\n",
        "# Plotting the feature importance\n",
        "import matplotlib.pyplot as plt\n",
        "plt.figure(figsize=(10, 8))\n",
        "plt.barh(importance_df_sorted['Feature'], importance_df_sorted['Coefficient'])\n",
        "plt.xlabel('Coefficient Value')\n",
        "plt.title('Feature Importance')\n",
        "plt.show()"
      ],
      "metadata": {
        "colab": {
          "base_uri": "https://localhost:8080/",
          "height": 718
        },
        "id": "szAkAhS5IzbB",
        "outputId": "3b88b6a2-d2d3-49fd-8fc4-fee0b9340084"
      },
      "execution_count": 11,
      "outputs": [
        {
          "output_type": "display_data",
          "data": {
            "text/plain": [
              "<Figure size 1000x800 with 1 Axes>"
            ],
            "image/png": "[encoded data removed]"
          },
          "metadata": {}
        }
      ]
    },
    {
      "cell_type": "code",
      "source": [],
      "metadata": {
        "id": "WcGU5TxGI3Mq"
      },
      "execution_count": null,
      "outputs": []
    },
    {
      "cell_type": "markdown",
      "source": [],
      "metadata": {
        "id": "hWHwvl9i5jNl"
      }
    },
    {
      "cell_type": "code",
      "source": [],
      "metadata": {
        "id": "gTzTNy2OI6x3"
      },
      "execution_count": null,
      "outputs": []
    },
    {
      "cell_type": "code",
      "source": [],
      "metadata": {
        "id": "qzOMwcJP9ONf"
      },
      "execution_count": null,
      "outputs": []
    }
  ]
}